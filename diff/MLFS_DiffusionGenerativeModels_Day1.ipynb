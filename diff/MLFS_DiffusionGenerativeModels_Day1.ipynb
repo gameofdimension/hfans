{
  "cells": [
    {
      "cell_type": "markdown",
      "metadata": {
        "id": "mc283JpqgiB7"
      },
      "source": [
        "# ML from scratch: Diffusion generative models, Day 1 (Theory)"
      ]
    },
    {
      "cell_type": "markdown",
      "metadata": {
        "id": "WPoPzlPRhRg1"
      },
      "source": [
        "### [Binxu Wang](https://scholar.harvard.edu/binxuw) and John Vastola"
      ]
    },
    {
      "cell_type": "markdown",
      "metadata": {
        "id": "E-nqee5SfHPH"
      },
      "source": [
        "## Teasers\n",
        "\n",
        "* [Explaining DALL·E 2](https://youtu.be/qTgPSKKjfVg)\n",
        "* [Craiyon / DALL·E 2 mini](https://www.craiyon.com/)\n",
        "* [Disco Diffusion](https://colab.research.google.com/github/alembics/disco-diffusion/blob/main/Disco_Diffusion.ipynb#scrollTo=DoTheRun)\n",
        "* [How DALL·E 2 actually works](https://www.assemblyai.com/blog/how-dall-e-2-actually-works/)\n",
        "\n",
        "<center>\n",
        "<figure>\n",
        "<img src=\"https://www.assemblyai.com/blog/content/images/size/w1000/2022/04/diffusion.png\" alt=\"drawing\" width=\"750\">\n",
        "<figcaption>Image from: https://www.assemblyai.com/blog/how-dall-e-2-actually-works/</figcaption>\n",
        "</figure>\n",
        "</center>"
      ]
    },
    {
      "cell_type": "markdown",
      "metadata": {
        "id": "ixj9mlhrgqET"
      },
      "source": [
        "## Introduction"
      ]
    },
    {
      "cell_type": "markdown",
      "metadata": {
        "id": "BxG5BU-wLokJ"
      },
      "source": [
        "<center>\n",
        "<figure>\n",
        "<img src=\"https://github.com/DrugowitschLab/ML-from-scratch-seminar/blob/master/DiffusionGenerativeModels/images/dog_to_noise.jpg?raw=true\" alt=\"drawing\" width=\"600\">\n",
        "<figcaption>Image from: https://yang-song.github.io/blog/2021/score/</figcaption>\n",
        "</figure>\n",
        "</center>"
      ]
    },
    {
      "cell_type": "markdown",
      "metadata": {
        "id": "h7D3SBQEPH_K"
      },
      "source": [
        "**Welcome back to Machine Learning from Scratch!** For previous sessions, see the GitHub repository at: https://github.com/DrugowitschLab/ML-from-scratch-seminar\n",
        "\n",
        "This session is on diffusion generative models, an approach to generating samples from distributions; it differs substantially from other approaches, like generative adversarial networks (GANs) and variational autoencoders (VAEs). Notably, it was one of the core ingredients of OpenAI's recent [DALL·E 2](https://openai.com/dall-e-2/) system for converting natural language descriptions to detailed images.\n",
        "\n",
        "Diffusion generative models use the following idea. Samples from some distribution (e.g. of images) are gradually corrupted with more and more noise until they become unrecognizable static—this is the 'diffusion'. We then learn to *reverse* this mapping, so that we can turn unrecognizable static into a sample from our distribution of interest. Because it's easy to sample unrecognizable static, the mapping allows us to easily sample from our target distribution.\n",
        "\n",
        "We will focus on the absolute basics of diffusion generative modeling, and restrict ourselves mostly to toy examples involving analytically tractable distributions.\n",
        "\n",
        "**Helpful blog posts**:\n",
        "\n",
        "https://yang-song.github.io/blog/2021/score/\n",
        "\n",
        "https://lilianweng.github.io/posts/2021-07-11-diffusion-models/\n",
        "\n",
        "**Relevant papers**:\n",
        "\n",
        "[2021 Song et al.] [Score-Based Generative Modeling through Stochastic Differential Equations](https://openreview.net/forum?id=PxTIG12RRHS)\n",
        "\n",
        "[2019 Song and Ermon] [Generative Modeling by Estimating Gradients of the Data Distribution](https://proceedings.neurips.cc/paper/2019/hash/3001ef257407d5a371a96dcd947c7d93-Abstract.html)\n",
        "\n",
        "[2015 Sohl-Dickstein et al.] [Deep Unsupervised Learning using Nonequilibrium Thermodynamics](http://proceedings.mlr.press/v37/sohl-dickstein15.html)"
      ]
    },
    {
      "cell_type": "markdown",
      "metadata": {
        "id": "33IQuHo8VkIX"
      },
      "source": [
        "---------------------------------------------------"
      ]
    },
    {
      "cell_type": "markdown",
      "metadata": {
        "id": "hkozPTqLWzLn"
      },
      "source": [
        "## 0. Motivation"
      ]
    },
    {
      "cell_type": "markdown",
      "metadata": {
        "id": "ZreiBUZ9W1l8"
      },
      "source": [
        "\"*Creating noise from data is easy; creating data from noise is generative modeling.*\" - [Song et al.](https://openreview.net/forum?id=PxTIG12RRHS)\n",
        "\n",
        "Generative modeling is an area of statistics and machine learning that involves approximating the probability distribution from which a given set of data is sampled. By learning such a distribution (e.g. of pictures of faces), we can sample *new* data from it—e.g. a new image of a face.\n",
        "\n",
        "In neuroscience, people care about generative models for at least two different reasons. They can be used to [generate novel stimuli](https://www.cell.com/cell/fulltext/S0092-8674(19)30391-5) to better understand neuronal tuning curves (particularly in vision); also, it is [widely](https://www.frontiersin.org/articles/10.3389/fncom.2018.00090/full) [speculated](https://www.frontiersin.org/articles/10.3389/frai.2019.00018/full) that some of the brain's models of the world may involve generative components. Such generative components may [help us make sense of](https://journals.plos.org/ploscompbiol/article?id=10.1371/journal.pcbi.1003134) sensory-deprivation-related hallucinations, like those experienced by patients with [Charles Bonnet syndrome](https://en.wikipedia.org/wiki/Visual_release_hallucinations). See Oliver Sacks' [*Hallucinations*](https://en.wikipedia.org/wiki/Hallucinations_(book)) for many interesting related neurological anecdotes.\n",
        "\n",
        "\n",
        "\n"
      ]
    },
    {
      "cell_type": "markdown",
      "metadata": {
        "id": "3u2WvvEKTEsC"
      },
      "source": [
        "There are different approaches to generative modeling, including using [generative adversarial networks](https://en.wikipedia.org/wiki/Generative_adversarial_network) (GANs) and [variational autoencoders](https://en.wikipedia.org/wiki/Variational_autoencoder) (VAEs). One somewhat newer approach involves adding a large amount of noise to samples, and then learning to *undo* the noise. In this way, we can learn to convert pure noise into samples from some distribution we're interested in. Because it's easy to generate all sorts of samples of pure noise, and each gets transformed by our noise-undoing-mapping to samples from our target distribution, we have a generative model."
      ]
    },
    {
      "cell_type": "markdown",
      "metadata": {
        "id": "3cSC-hoDV50F"
      },
      "source": [
        "<center>\n",
        "<figure>\n",
        "<img src=\"https://github.com/DrugowitschLab/ML-from-scratch-seminar/blob/master/DiffusionGenerativeModels/images/forward_diffusion_movie.gif?raw=true\">\n",
        "<figcaption>Turning a distribution sample into unrecognizable static by adding lots of noise.<br>\n",
        "Image from: https://yang-song.github.io/blog/2021/score/</figcaption>\n",
        "</figure>\n",
        "</center>"
      ]
    },
    {
      "cell_type": "markdown",
      "metadata": {
        "id": "_FMG98-E8dvY"
      },
      "source": [
        "<center>\n",
        "<figure>\n",
        "<img src=\"https://github.com/DrugowitschLab/ML-from-scratch-seminar/blob/master/DiffusionGenerativeModels/images/reverse_diffusion_movie.gif?raw=true\">\n",
        "<figcaption>Turning noise into a distribution sample.<br>\n",
        "Image from: https://yang-song.github.io/blog/2021/score/</figcaption>\n",
        "</figure>\n",
        "</center>"
      ]
    },
    {
      "cell_type": "markdown",
      "metadata": {
        "id": "ZOcyrumyw6jn"
      },
      "source": [
        "There are various appealing features to this approach to generative modeling. One notable one is that we do not have to directly learn a probability distribution, but can instead learn a related function sometimes called the **score**. This is the gradient of the log of the probability density function.\n",
        "\n",
        "$$\\mathbf{s}(\\mathbf{x}) := \\nabla_{\\mathbf{x}} \\log p(\\mathbf{x})$$\n",
        "\n",
        "This allows us to avoid having to learn a normalization constant for our probability density, which is an often troublesome task."
      ]
    },
    {
      "cell_type": "markdown",
      "metadata": {
        "id": "F_Q0wD1_7Ee7"
      },
      "source": [
        "What can we do with a diffusion-based generative model? We can do things like:\n",
        "\n",
        "1.   Class-conditional generation (given a class label, generate a new example)\n",
        "2.   Inpainting (filling in the missing parts of a partly corrupted image)\n",
        "3.   Colorization (adding plausible color to a grayscale image)\n",
        "\n",
        "...and more! See [Song et al. 2021](https://openreview.net/forum?id=PxTIG12RRHS) for more discussion of these applications.\n",
        "\n"
      ]
    },
    {
      "cell_type": "markdown",
      "metadata": {
        "id": "Nt1_7Rv2nZL2"
      },
      "source": [
        "<center>\n",
        "<figure>\n",
        "<img src=\"https://github.com/DrugowitschLab/ML-from-scratch-seminar/blob/master/DiffusionGenerativeModels/images/bedroom_restoration_example.png?raw=true\" width=700>\n",
        "<figcaption>Image inpainting example.<br>\n",
        "Adapted from Song et al. 2021.</figcaption>\n",
        "</figure>\n",
        "</center>"
      ]
    },
    {
      "cell_type": "markdown",
      "metadata": {
        "id": "uXiBwao03RTq"
      },
      "source": [
        "-----------------------------------------------------"
      ]
    },
    {
      "cell_type": "markdown",
      "metadata": {
        "id": "noc-f-UHhaDO"
      },
      "source": [
        "## 1. Forward diffusion, and a little bit of stochastic processes review"
      ]
    },
    {
      "cell_type": "markdown",
      "metadata": {
        "id": "PWegoVOCAxLb"
      },
      "source": [
        "How do we add noise to distribution samples 'properly'? Although views on this have varied, recent work has [unified](https://openreview.net/forum?id=PxTIG12RRHS) different approaches. By and large, various ideas about how to do this amount to subjecting a given distribution sample to a kind of *diffusion process*. More generally, we can imagine applying some kind of stochastic process (defined by a stochastic differential equation, or SDE) to a distribution sample."
      ]
    },
    {
      "cell_type": "markdown",
      "metadata": {
        "id": "hArsOs57iL2i"
      },
      "source": [
        "### Basics of diffusion"
      ]
    },
    {
      "cell_type": "markdown",
      "metadata": {
        "id": "eK_APMrgftnG"
      },
      "source": [
        "Let's view the basics of diffusion. A one-dimensional diffusion process (on the real line) can be defined by the SDE\n",
        "\n",
        "$$\\dot{x} = \\sigma \\ \\eta(t)$$\n",
        "\n",
        "where $\\sigma > 0$ is a constant, and $\\eta(t)$ denotes a Gaussian white noise term.\n",
        "\n",
        "*What does this even mean?* We can make the above expression concrete by defining it to be the small $\\Delta t$ limit of the discrete process for which\n",
        "\n",
        "$$x(t + \\Delta t) = x(t) + \\sigma \\sqrt{\\Delta t} \\ r$$\n",
        "\n",
        "where $r \\sim \\mathcal{N}(0, 1)$ is a sample from a standard normal distribution. This is an example of an [**Euler-Maruyama time step**](https://en.wikipedia.org/wiki/Euler%E2%80%93Maruyama_method).\n",
        "\n",
        "The above description of diffusion is useful for doing simulations. Given a number $x$, we can use the above update rule to subject it to one time step of diffusion. But a complementary view describes how the probability density $p(x, t)$, the probability of the system being at position $x$ at time $t$, changes over time.\n",
        "\n",
        "In particular, $p(x, t)$ changes according to the well-known diffusion equation:\n",
        "\n",
        "$$\\frac{\\partial p(x, t)}{\\partial t} = \\frac{\\sigma^2}{2} \\frac{\\partial^2 p(x, t)}{\\partial x^2} \\ .$$\n",
        "\n",
        "You may be used to seeing this equation with a diffusion constant $D$ instead of a parameter $\\sigma$. The conversion between them is that $D := \\sigma^2/2$.\n",
        "\n",
        "The solution to the diffusion equation, given a delta function initial condition $p(x, 0) = \\delta(x - x_0)$ (that is, given that we are initially certain that the system is at location $x_0$) is the well-known [heat kernel](https://en.wikipedia.org/wiki/Heat_kernel):\n",
        "\n",
        "$$p(x, t | x_0, 0) = \\frac{1}{\\sqrt{2 \\pi \\sigma^2 t}} \\exp\\left\\{ - \\frac{(x - x_0)^2}{2 \\sigma^2 t}  \\right\\} \\ . $$\n",
        "\n",
        "Given an arbitrary initial condition $p(x, 0) = p_0(x)$, the general solution of the diffusion equation is then\n",
        "\n",
        "$$p(x, t) = \\int_{-\\infty}^{\\infty} p(x, t | x_0, 0) p_0(x_0) \\ dx_0 \\ .$$"
      ]
    },
    {
      "cell_type": "markdown",
      "metadata": {
        "id": "OnbMt0hKj6R6"
      },
      "source": [
        "###Basics of stochastic differential equations (SDEs)"
      ]
    },
    {
      "cell_type": "markdown",
      "metadata": {
        "id": "O-O3kwHrkCBO"
      },
      "source": [
        "Diffusion is just one particularly simple example of a stochastic process governed by an SDE. The most general one-dimensional SDE looks like\n",
        "\n",
        "$$\\dot{x} = f(x, t) + g(x, t) \\ \\eta(t)$$\n",
        "\n",
        "where $f(x, t)$ and $g(x, t)$ are functions, and $\\eta(t)$ is again a Gaussian white noise term. The function $f(x, t)$ is the *drift* term, and describes how the average value of $x(t)$ evolves with time. The term involving $g(x, t)$ is the *noise* or *diffusion* term, and describes stochastic fluctuations in the value of $x(t)$.\n",
        "\n",
        "*What does this even mean?* Unlike in the case of diffusion, for which $g(x, t)$ is a constant, there are additional mathematical subtleties associated with making the above expression well-defined. For our purposes, we can choose the convention known as the [*Ito interpretation*](https://en.wikipedia.org/wiki/It%C3%B4_calculus), which defines the above expression to be the small $\\Delta t$ limit of the discrete process\n",
        "\n",
        "$$x(t + \\Delta t) = x(t) + f(x(t), t) \\Delta t + g(x, t) \\sqrt{\\Delta t} \\ r$$\n",
        "\n",
        "where $r \\sim \\mathcal{N}(0, 1)$ is a sample from a standard normal distribution. This is a more general Euler-Maruyama time step (although it is still not the *most* general form of it, given that we are only working in one dimension for now).\n",
        "\n",
        "The analogue to the diffusion equation is the [**Fokker-Planck equation**](https://en.wikipedia.org/wiki/Fokker%E2%80%93Planck_equation) (FPE), which describes how $p(x, t)$ evolves in time for a system described by an SDE. For the one-dimensional Ito-interpreted system written above, it is given by\n",
        "\n",
        "$$\\frac{\\partial p(x, t)}{\\partial t} = - \\frac{\\partial}{\\partial x} \\left[ \\  f(x, t) p(x, t) \\ \\right] + \\frac{\\partial^2}{\\partial x^2} \\left[ \\ \\frac{g(x, t)^2}{2} p(x, t) \\ \\right] \\ .$$"
      ]
    },
    {
      "cell_type": "markdown",
      "metadata": {
        "id": "93QA-OtaAyZV"
      },
      "source": [
        "Most FPEs are difficult or impossible to solve analytically, so we may not be able to get exact solutions for $p(x, t)$. Notable cases where we *can* solve for $p(x, t)$ exactly include diffusion and [Ornstein-Uhlenbeck-like processes](https://en.wikipedia.org/wiki/Ornstein%E2%80%93Uhlenbeck_process) (OU processes). OU processes are mean-reverting stochastic processes; a one-dimensional example is the SDE\n",
        "\n",
        "$$\\dot{x} = \\frac{1}{\\tau} \\left[ \\mu - x \\right] + \\sigma \\sqrt{\\frac{2}{\\tau}} \\ \\eta(t) \\ .$$\n",
        "\n",
        "Its solution (for an initial condition $p(x, 0) = \\delta(x - x_0)$) is\n",
        "\n",
        "$$p(x, t | x_0, 0) = \\frac{1}{\\sqrt{2 \\pi s(t)^2}} \\exp\\left\\{ - \\frac{[ x - \\mu(t) ]^2}{2 s(t)^2}  \\right\\} $$\n",
        "\n",
        "where\n",
        "\n",
        "$$\n",
        "\\begin{split}\n",
        "\\mu(t) &:= x_0 e^{- t/\\tau} + \\mu \\left( 1 - e^{- t/\\tau} \\right) \\\\\n",
        "s(t)^2 &:= \\sigma^2 \\left( 1 - e^{- 2 t/\\tau} \\right) \\ .\n",
        "\\end{split}\n",
        "$$\n",
        "\n",
        "In the long-time limit ($t \\to \\infty$), we have\n",
        "$$p(x, t | x_0, 0) \\xrightarrow{t \\to \\infty} p_{ss}(x) = \\frac{1}{\\sqrt{2 \\pi \\sigma^2}} \\exp\\left\\{ - \\frac{(x - \\mu)^2}{2 \\sigma^2}  \\right\\} \\ ,$$\n",
        "i.e. the steady-state solution $p_{ss}(x)$ is a Gaussian with mean $\\mu$ and variance $\\sigma^2$.  \n",
        "\n",
        "The general solution to this OU process (given an initial distribution $p(x, 0) = p_0(x)$) is\n",
        "$$p(x, t) = \\int_{-\\infty}^{\\infty} p(x, t | x_0, 0) p_0(x_0) \\ dx_0 \\ .$$\n",
        "\n",
        "One thing that makes OU processes somewhat different from a strict diffusion process is that their long-time behavior loses all memory of their initial condition. That is, as $t$ increases, $p(x, t)$ depends less and less on $p_0(x)$."
      ]
    },
    {
      "cell_type": "markdown",
      "metadata": {
        "id": "JEWsp3_9X9PE"
      },
      "source": [
        "###Basic example code"
      ]
    },
    {
      "cell_type": "markdown",
      "metadata": {
        "id": "b8vK0eq2X9j4"
      },
      "source": [
        "Let's see what it might look like to simulate 1D diffusion, a particularly simple stochastic process. You can also play with the code yourself to simulate other SDEs, like an OU process."
      ]
    },
    {
      "cell_type": "markdown",
      "metadata": {
        "id": "oQO_DnZ9ZIRB"
      },
      "source": [
        "Import libraries."
      ]
    },
    {
      "cell_type": "code",
      "execution_count": 1,
      "metadata": {
        "id": "090gKE-cZJl2"
      },
      "outputs": [],
      "source": [
        "import numpy as np\n",
        "import matplotlib.pyplot as plt\n",
        "\n",
        "from scipy.stats import norm"
      ]
    },
    {
      "cell_type": "markdown",
      "metadata": {
        "id": "nL1t5T4Oa1G3"
      },
      "source": [
        "Below are some utility functions. The first few functions are used to forward simulate 1D diffusion (although `forward_SDE_simulation` can be used to simulate more general SDEs). The last function outputs the analytic transition probability for 1D diffusion, which we can use to validate our simulations."
      ]
    },
    {
      "cell_type": "code",
      "execution_count": 2,
      "metadata": {
        "id": "1iwJfowMYB5f"
      },
      "outputs": [],
      "source": [
        "# Simulate SDE with drift function f and noise amplitude g for arbitrary number of steps\n",
        "def forward_SDE_simulation(x0, nsteps, dt, f, g, params):\n",
        "\n",
        "  # Initialize time and a stochastic trajectory\n",
        "  t = 0\n",
        "  x_traj = np.zeros((nsteps + 1, *x0.shape))\n",
        "  x_traj[0] = np.copy(x0)\n",
        "\n",
        "\n",
        "  # Perform many Euler-Maruyama time steps\n",
        "  for i in range(nsteps):\n",
        "    random_normal = np.random.randn(*x0.shape)        # standard normal random number\n",
        "\n",
        "    x_traj[i+1] = x_traj[i] + f(x_traj[i], t, params)*dt + g(x_traj[i], t, params)*np.sqrt(dt)*random_normal\n",
        "    t = t + dt\n",
        "\n",
        "  return x_traj\n",
        "\n",
        "\n",
        "# Drift function for diffusion (returns zeros)\n",
        "def f_diff_simple(x, t, params):\n",
        "  return np.zeros((*x.shape,))\n",
        "\n",
        "\n",
        "# Noise amplitude for diffusion (constant)\n",
        "def g_diff_simple(x, t, params):\n",
        "  sigma = params['sigma']\n",
        "  return sigma*np.ones((*x.shape,))\n",
        "\n",
        "\n",
        "# Exact transition probability for 1D diffusion\n",
        "def transition_probability_diffusion_exact(x, t, params):\n",
        "  x0, sigma= params['x0'], params['sigma']\n",
        "\n",
        "  pdf = norm.pdf(x, loc=x0, scale=np.sqrt((sigma**2)*t))  # pdf of normal distribution with mean x0 and variance (sigma^2)*t\n",
        "  return pdf"
      ]
    },
    {
      "cell_type": "markdown",
      "metadata": {
        "id": "0Rar6FiycMMr"
      },
      "source": [
        "Simulation parameters."
      ]
    },
    {
      "cell_type": "code",
      "execution_count": 3,
      "metadata": {
        "id": "htuDeUgcYB_E"
      },
      "outputs": [],
      "source": [
        "sigma = 1         # noise amplitude for 1D diffusion\n",
        "\n",
        "num_samples = 1000\n",
        "x0 = np.zeros(num_samples)    # initial condition for diffusion\n",
        "\n",
        "\n",
        "nsteps = 2000      # number of simulation steps\n",
        "dt = 0.001          # size of small time steps\n",
        "T = nsteps*dt\n",
        "t = np.linspace(0, T, nsteps + 1)\n",
        "\n",
        "\n",
        "params = {'sigma': sigma, 'x0':x0, 'T':T}"
      ]
    },
    {
      "cell_type": "markdown",
      "metadata": {
        "id": "MWQSPAq2cLQK"
      },
      "source": [
        "Forward simulate the model."
      ]
    },
    {
      "cell_type": "code",
      "execution_count": 4,
      "metadata": {
        "id": "Y_lB150bYAfj"
      },
      "outputs": [],
      "source": [
        "x_traj = forward_SDE_simulation(x0, nsteps, dt, f_diff_simple, g_diff_simple, params)"
      ]
    },
    {
      "cell_type": "markdown",
      "metadata": {
        "id": "gZhkgZp8cknu"
      },
      "source": [
        "Plot results."
      ]
    },
    {
      "cell_type": "code",
      "execution_count": 5,
      "metadata": {
        "colab": {
          "base_uri": "https://localhost:8080/",
          "height": 1000
        },
        "id": "cQyVvcubcoOG",
        "outputId": "0e9b53fd-b493-4516-abab-0c9084c3fb37"
      },
      "outputs": [
        {
          "data": {
            "image/png": "[encoded data removed]",
            "text/plain": [
              "<Figure size 640x480 with 1 Axes>"
            ]
          },
          "metadata": {},
          "output_type": "display_data"
        },
        {
          "data": {
            "image/png": "[encoded data removed]",
            "text/plain": [
              "<Figure size 640x480 with 1 Axes>"
            ]
          },
          "metadata": {},
          "output_type": "display_data"
        },
        {
          "data": {
            "image/png": "[encoded data removed]",
            "text/plain": [
              "<Figure size 640x480 with 1 Axes>"
            ]
          },
          "metadata": {},
          "output_type": "display_data"
        }
      ],
      "source": [
        "# Plot initial distribution (distribution before diffusion)\n",
        "plt.hist(x_traj[0], density=True, bins=100)\n",
        "plt.title(\"$t = 0$\", fontsize=20)\n",
        "plt.xlabel(\"$x$\", fontsize=20)\n",
        "plt.ylabel(\"probability\", fontsize=20)\n",
        "plt.show()\n",
        "\n",
        "\n",
        "# Compute exact transition probability\n",
        "x_f_min, x_f_max = np.amin(x_traj[-1]), np.amax(x_traj[-1])\n",
        "num_xf = 1000\n",
        "x_f_arg = np.linspace(x_f_min, x_f_max, num_xf)\n",
        "pdf_final = transition_probability_diffusion_exact(x_f_arg, T, params)\n",
        "\n",
        "\n",
        "# Plot final distribution (distribution after diffusion)\n",
        "plt.hist(x_traj[-1], bins=100, density=True)\n",
        "plt.plot(x_f_arg, pdf_final, color='black', linewidth=5)\n",
        "plt.title(\"$t = $\"+str(T), fontsize=20)\n",
        "plt.xlabel(\"$x$\", fontsize=20)\n",
        "plt.ylabel(\"probability\", fontsize=20)\n",
        "plt.show()\n",
        "\n",
        "\n",
        "# Plot some trajectories\n",
        "sample_trajectories = [0, 1, 2, 3, 4]\n",
        "for s in sample_trajectories:\n",
        "  plt.plot(t, x_traj[:,s])\n",
        "plt.title(\"Sample trajectories\", fontsize=20)\n",
        "plt.xlabel(\"$t$\", fontsize=20)\n",
        "plt.ylabel(\"x\", fontsize=20)\n",
        "plt.show()"
      ]
    },
    {
      "cell_type": "markdown",
      "metadata": {
        "id": "ns7Ku3hxsZsj"
      },
      "source": [
        "###More general SDEs"
      ]
    },
    {
      "cell_type": "markdown",
      "metadata": {
        "id": "FANcc9E1sZ4P"
      },
      "source": [
        "We can consider a multivariate generalization of the one-dimensional SDEs described in the previous subsection. In general, we may have\n",
        "\n",
        "$$\\dot{\\mathbf{x}} = \\mathbf{f}(\\mathbf{x}, t) + \\mathbf{g}(\\mathbf{x}, t) \\ \\boldsymbol{\\eta}(t)$$\n",
        "\n",
        "where $\\mathbf{x}(t) \\in \\mathbb{R}^N$, $\\mathbf{f}$ is a function that maps $\\mathbf{x}$ and $t$ to a vector in $\\mathbb{R}^N$, $\\mathbf{g}$ is an $N \\times M$ matrix that depends on $\\mathbf{x}$ and $t$, and $\\boldsymbol{\\eta}(t)$ is an $M$-dimensional vector of independent Gaussian white noise terms.\n",
        "\n",
        "The corresponding (Ito-interpreted) Euler-Maruyama time step is\n",
        "$$\\mathbf{x}(t + \\Delta t) = \\mathbf{x}(t) + \\mathbf{f}(\\mathbf{x}(t), t) \\Delta t + \\mathbf{g}(\\mathbf{x}(t), t) \\sqrt{\\Delta t} \\ \\mathbf{r}$$\n",
        "where $\\mathbf{r} = (r_1, ..., r_M)^T$, and each $r_i$ is a sample from a standard normal distribution.\n",
        "\n",
        "The corresponding FPE is\n",
        "$$\\frac{\\partial p(\\mathbf{x}, t)}{\\partial t} = \\sum_{j = 1}^N - \\frac{\\partial}{\\partial x_j} \\left[ \\ f_j(\\mathbf{x}, t) p(\\mathbf{x}, t)  \\ \\right] + \\sum_{j = 1}^N \\sum_{k = 1}^N \\frac{\\partial^2}{\\partial x_j \\partial x_k} \\left[ \\ D_{jk}(\\mathbf{x}, t) p(\\mathbf{x}, t)  \\ \\right]$$\n",
        "where $\\mathbf{D}(\\mathbf{x}, t) := \\frac{1}{2} \\mathbf{g}(\\mathbf{x}, t) \\mathbf{g}(\\mathbf{x}, t)^T$ is an $N \\times N$ matrix called the *diffusion tensor*. Its entries are\n",
        "$$D_{jk}(\\mathbf{x}, t) = \\frac{1}{2} \\sum_{\\ell = 1}^M \\sigma_{j \\ell}(\\mathbf{x}, t) \\sigma_{k \\ell}(\\mathbf{x}, t) \\ .$$\n",
        "\n",
        "We will focus on the somewhat less general class of multivariate SDEs with\n",
        "$$\\dot{\\mathbf{x}} = \\mathbf{f}(\\mathbf{x}, t) + g(\\mathbf{x}, t) \\ \\boldsymbol{\\eta}(t)$$\n",
        "i.e. where $g$ is a scalar function of $\\mathbf{x}$ and $t$ rather than an $N \\times M$ matrix, and where $M = N$. The interpretation is that each dimension of $\\mathbf{x}$ has its own noise term (that is, the noise terms are not coupled), each with the same amplitude $g(\\mathbf{x}, t)$. We will focus on this simplified SDE partly for simplicity's sake, and partly because researchers studying diffusion generative modeling tend to restrict themselves to this case.\n",
        "\n",
        "For such SDEs, the Fokker-Planck equation simplifies to\n",
        "$$\n",
        "\\begin{split}\n",
        "\\frac{\\partial p(\\mathbf{x}, t)}{\\partial t} &=  - \\nabla \\cdot \\left[ \\ \\mathbf{f}(\\mathbf{x}, t) p(\\mathbf{x}, t)  \\ \\right] + \\nabla^2 \\left[ \\ \\frac{g(\\mathbf{x}, t)^2}{2} p(\\mathbf{x}, t)  \\ \\right] \\\\\n",
        " &=  - \\nabla \\cdot \\left[ \\ \\mathbf{f}(\\mathbf{x}, t) p(\\mathbf{x}, t) - \\nabla \\left( \\ \\frac{g(\\mathbf{x}, t)^2}{2} p(\\mathbf{x}, t)  \\ \\right) \\ \\right] \\ .\n",
        "\\end{split}\n",
        "$$"
      ]
    },
    {
      "cell_type": "markdown",
      "metadata": {
        "id": "pxiJGeIL0ws8"
      },
      "source": [
        "###What SDEs should we use to corrupt samples?"
      ]
    },
    {
      "cell_type": "markdown",
      "metadata": {
        "id": "Oao0ly5t0w57"
      },
      "source": [
        "Thus far, we have only reviewed some basic facts about stochastic processes governed by SDEs. We still have to answer the question: given a sample from our distribution of interest, what stochastic process should we use to corrupt it?\n",
        "\n",
        "Here are a few general considerations:\n",
        "\n",
        "1.   We want it to be simple enough that we can solve for $p(\\mathbf{x}, t)$, where $t$ is sufficiently large, exactly. Since reverse diffusion carries us from $p(\\mathbf{x}, t)$ to our target distribution, this means we know what distribution to sample from in order to generate reverse diffusion samples of our target distribution.\n",
        "2.   We want $p(\\mathbf{x}, t)$, for $t$ sufficiently large, to be a distribution which is easy to sample from (e.g. a Gaussian).\n",
        "3.   We want samples to be *strongly* corrupted, so that there is little to no trace of the original sample.\n",
        "\n",
        "**Point 1** excludes most possible stochastic processes, since most FPEs are not exactly solvable. The class of processes it *doesn't* exclude are essentially just diffusion processes, and OU-like processes.\n",
        "\n",
        "Diffusion processes and OU-like processes both (in the long-time limit) convert samples to samples from Gaussians, so **point 2** is automatically covered.\n",
        "\n",
        "To address **point 3**, we have to make sure we inject *a lot* of noise into our samples. This means either having a large diffusion coefficient, or diffusing for a very long time. Assuming a fixed amount of time, we have to choose some kind of noise parameter (e.g. $\\sigma$) to be large.\n",
        "\n",
        "But 'large' means different things for different data sets. It would be annoying to have to tune a noise parameter manually after finding out we did not corrupt our samples 'enough'. One solution is to use noise which *increases exponentially over time*: this way, *eventually*, we should have more than enough noise.\n",
        "\n"
      ]
    },
    {
      "cell_type": "markdown",
      "metadata": {
        "id": "ZcCsVZNAO8R5"
      },
      "source": [
        "Here are three choices used in [Song et al. 2021](https://openreview.net/forum?id=PxTIG12RRHS):"
      ]
    },
    {
      "cell_type": "markdown",
      "metadata": {
        "id": "m22mvSzhQKWz"
      },
      "source": [
        "####**A. Variance Exploding SDE (VE SDE)**"
      ]
    },
    {
      "cell_type": "markdown",
      "metadata": {
        "id": "eoN0yAuhQV2N"
      },
      "source": [
        "The variance exploding (VE) SDE is defined by\n",
        "\n",
        "$$\\dot{\\mathbf{x}} = \\sqrt{ \\frac{d[ \\sigma^2(t) ]}{dt} } \\ \\boldsymbol{\\eta}(t)$$\n",
        "\n",
        "where $\\sigma^2(t)$ is a strictly increasing function of time, and where $\\mathbf{x}(t) \\in \\mathbb{R}^N$. The corresponding transition probability is\n",
        "\n",
        "$$\n",
        "\\begin{split}\n",
        "p(\\mathbf{x}, t | \\mathbf{x}^{(0)}, 0) &= \\frac{1}{\\left[ \\sqrt{2 \\pi \\sigma^2(t)} \\right]^N} \\exp\\left\\{ - \\frac{\\left[ \\mathbf{x} - \\mathbf{x}^{(0)} \\right]^2}{2 \\sigma^2(t)}  \\right\\} \\\\\n",
        "&= \\prod_{j = 1}^N \\frac{1}{\\sqrt{2 \\pi \\sigma^2(t)} } \\exp\\left\\{ - \\frac{\\left[ x_j - x^{(0)}_j \\right]^2}{2 \\sigma^2(t)}  \\right\\} \\ .\n",
        "\\end{split}\n",
        "$$\n",
        "\n",
        "The intuition is that we subject our samples to a diffusion process with a constantly increasing noise scale $\\sigma^2(t)$.\n",
        "\n",
        "What function should we choose for $\\sigma^2(t)$? In the spirit of point 3 above, we could choose an exponentially increasing function:\n",
        "\n",
        "$$\\sigma^2(t) := \\sigma^2_{min} \\left( \\frac{\\sigma^2_{max}}{\\sigma^2_{min}} \\right)^{t/T} = \\sigma^2_{min} \\exp\\left\\{ \\frac{t}{T} \\log\\left( \\frac{\\sigma^2_{max}}{\\sigma^2_{min}} \\right) \\right\\}$$\n",
        "\n",
        "where $T$ is the amount of time we run the diffusion on our samples. The important thing isn't the exact parameterization, of course; it's that $\\sigma^2(t)$ is exponentially increasing.\n",
        "\n",
        "In [Song et al. 2021](https://openreview.net/forum?id=PxTIG12RRHS) (see appendix B, page 15) they suggest $\\sigma^2_{min} = (0.01)^2$. They recommend, in line with [Song and Ermon 2020](https://papers.nips.cc/paper/2020/hash/92c3b916311a5517d9290576e3ea37ad-Abstract.html) (see Technique 1, page 4), choosing $\\sigma^2_{max}$ to be the maximum of the squared Euclidean distance between all pairs of training samples."
      ]
    },
    {
      "cell_type": "markdown",
      "metadata": {
        "id": "x6Jdv97ZQV6s"
      },
      "source": [
        "####**B. Variance Preserving SDE (VP SDE)**"
      ]
    },
    {
      "cell_type": "markdown",
      "metadata": {
        "id": "AXuuh7MwQWBe"
      },
      "source": [
        "The variance preserving (VP) SDE is defined by\n",
        "\n",
        "$$\\dot{\\mathbf{x}} = - \\frac{\\beta(t)}{2} \\mathbf{x} + \\sqrt{ \\beta(t) } \\ \\boldsymbol{\\eta}(t)$$\n",
        "\n",
        "where $\\beta(t)$ is a strictly increasing function of time, and where $\\mathbf{x}(t) \\in \\mathbb{R}^N$. The corresponding transition probability is\n",
        "\n",
        "$$\n",
        "\\begin{split}\n",
        "p(\\mathbf{x}, t | \\mathbf{x}^{(0)}, 0) &= \\frac{1}{\\left[ \\sqrt{2 \\pi \\sigma^2(t)} \\right]^N} \\exp\\left\\{ - \\frac{\\left[ \\mathbf{x} - \\boldsymbol{\\mu}(t) \\right]^2}{2 \\ \\sigma^2(t)}  \\right\\} \\\\\n",
        "&= \\prod_{j = 1}^N \\frac{1}{\\sqrt{2 \\pi \\sigma^2(t)} } \\exp\\left\\{ - \\frac{\\left[ x_j - \\mu_j(t) \\right]^2}{2 \\ \\sigma^2(t)}  \\right\\}\n",
        "\\end{split}\n",
        "$$\n",
        "where\n",
        "$$\n",
        "\\begin{split}\n",
        "\\boldsymbol{\\mu}(t) &:= \\mathbf{x}^{(0)} e^{- \\frac{1}{2} \\int_0^t \\beta(s) ds} \\\\\n",
        "\\sigma^2(t) &:= 1 - e^{ - \\int_0^t \\beta(s) ds} \\ .\n",
        "\\end{split}\n",
        "$$\n",
        "\n",
        "The intuition is that we subject each dimension of our sample to an independent OU process, with convergence to steady state (i.e. a Gaussian with mean 0 and variance 1) modulated by a strictly increasing function $\\beta(t)$. As $\\beta(t)$ increases, samples are pushed with increasing urgency towards zero.\n",
        "\n",
        "Just to make things explicit, the long-time/steady-state distribution of this process is independent of its initial condition, and is\n",
        "\n",
        "$$p( \\mathbf{x}, t) \\xrightarrow{t \\to \\infty} p_{ss}(\\mathbf{x}) = \\frac{1}{\\left[ \\sqrt{2 \\pi} \\right]^N} \\exp\\left\\{ - \\frac{\\mathbf{x}^2}{2}  \\right\\} =  \\prod_{j = 1}^N \\frac{1}{\\sqrt{2 \\pi} } \\exp\\left\\{ - \\frac{x_j^2}{2}  \\right\\}  $$\n",
        "\n",
        "i.e. it's a product of $N$ standard normal distributions.\n",
        "\n",
        "What function should we choose for $\\beta(t)$? In the spirit of point 3 above, we could choose a linearly increasing function:\n",
        "\n",
        "$$\\beta(t) := \\beta_{min} + (\\beta_{max} - \\beta_{min}) \\frac{t}{T}$$\n",
        "\n",
        "where $T$ is the amount of time we run the process on our samples. It's okay to choose $\\beta(t)$ to be linearly increasing rather than exponentially increasing since, as is clear from the above expressions for $\\boldsymbol{\\mu}(t)$ and $\\sigma^2(t)$, samples converge to steady-state exponentially quickly at a rate determined by $\\beta(t)$.\n",
        "\n",
        "In [Song et al. 2021](https://openreview.net/forum?id=PxTIG12RRHS) (see appendix C, page 16) they suggest $\\beta_{min} = 0.1$ and $\\beta_{max} = 20$, which is in line with the choice from [Ho et al. 2020](https://proceedings.neurips.cc/paper/2020/hash/4c5bcfec8584af0d967f1ab10179ca4b-Abstract.html)."
      ]
    },
    {
      "cell_type": "markdown",
      "metadata": {
        "id": "C2qUy2lwQZ50"
      },
      "source": [
        "####**C. Sub-variance-preserving SDE (sub-VP SDE)**"
      ]
    },
    {
      "cell_type": "markdown",
      "metadata": {
        "id": "zpWPypBPQZ8x"
      },
      "source": [
        "The sub-variance-preserving (sub-VP) SDE is defined by\n",
        "\n",
        "$$\\dot{\\mathbf{x}} = - \\frac{\\beta(t)}{2} \\mathbf{x} + \\sqrt{ \\beta(t) \\left[ 1 - e^{- 2 \\int_0^t \\beta(s) ds}  \\right] } \\ \\boldsymbol{\\eta}(t)$$\n",
        "\n",
        "where $\\beta(t)$ is a strictly increasing function of time, and where $\\mathbf{x}(t) \\in \\mathbb{R}^N$. The corresponding transition probability is\n",
        "\n",
        "$$\n",
        "\\begin{split}\n",
        "p(\\mathbf{x}, t | \\mathbf{x}^{(0)}, 0) &= \\frac{1}{\\left[ \\sqrt{2 \\pi \\sigma^2(t)} \\right]^N} \\exp\\left\\{ - \\frac{\\left[ \\mathbf{x} - \\boldsymbol{\\mu}(t) \\right]^2}{2 \\ \\sigma^2(t)}  \\right\\} \\\\\n",
        "&= \\prod_{j = 1}^N \\frac{1}{\\sqrt{2 \\pi \\sigma^2(t)} } \\exp\\left\\{ - \\frac{\\left[ x_j - \\mu_j(t) \\right]^2}{2 \\ \\sigma^2(t)}  \\right\\}\n",
        "\\end{split}\n",
        "$$\n",
        "where\n",
        "$$\n",
        "\\begin{split}\n",
        "\\boldsymbol{\\mu}(t) &:= \\mathbf{x}^{(0)} e^{- \\frac{1}{2} \\int_0^t \\beta(s) ds} \\\\\n",
        "\\sigma^2(t) &:= \\left[ 1 - e^{ - \\int_0^t \\beta(s) ds} \\right]^2 \\ .\n",
        "\\end{split}\n",
        "$$\n",
        "\n",
        "In other words, this SDE behaves just like the VP SDE, except that its variance is always smaller (hence the name).\n",
        "\n",
        "The long-time/steady-state behavior is also the same (in the $t \\to \\infty$ limit, we get a product of $N$ standard normal distributions).\n",
        "\n",
        "[Song et al. 2021](https://openreview.net/forum?id=PxTIG12RRHS) use the same function $\\beta(t)$ that they used for the VP SDE (see appendix C, page 16)."
      ]
    },
    {
      "cell_type": "markdown",
      "metadata": {
        "id": "YITr7i8S0xGN"
      },
      "source": [
        "###Exercises"
      ]
    },
    {
      "cell_type": "markdown",
      "metadata": {
        "id": "jQwBRqldhP-y"
      },
      "source": [
        "####**1.1: Euler-Maruyama examples.**\n",
        "\n",
        "Write down the Euler-Maruyama time step you would use to simulate the following SDEs:\n",
        "\n",
        "(1) $$\\dot{x} = \\sigma \\sqrt{x} \\ \\eta(t)$$\n",
        "\n",
        "(2) $$\\dot{x} = \\frac{1}{\\tau} \\left[ \\mu - x \\right] + \\sigma \\sqrt{\\frac{2}{\\tau}} \\ \\eta(t) \\ .$$\n",
        "\n",
        "(3)\n",
        "$$\n",
        "\\begin{split}\n",
        "\\dot{x}_1 &= \\alpha - \\beta x_1 + \\sigma_1 \\ \\eta_1(t) \\\\\n",
        "\\dot{x}_2 &= \\beta x_1 - \\gamma x_2 + \\sigma_2 \\ \\eta_2(t)\n",
        "\\end{split}\n",
        "$$\n",
        "\n",
        "(4)\n",
        "$$\n",
        "\\begin{split}\n",
        "\\dot{x}_1 &= \\alpha - \\beta x_1 + \\sqrt{\\alpha} \\ \\eta_1(t) - \\sqrt{\\beta x_1} \\ \\eta_2(t)\\\\\n",
        "\\dot{x}_2 &= \\beta x_1 - \\gamma x_2 + \\sqrt{\\beta x_1} \\ \\eta_2(t) - \\sqrt{\\gamma x_2} \\ \\eta_3(t)\n",
        "\\end{split}\n",
        "$$"
      ]
    },
    {
      "cell_type": "markdown",
      "metadata": {
        "id": "gN20IY9hhQXG"
      },
      "source": [
        "####**1.2: Diffusion preserves distribution mean.**\n",
        "\n",
        "Do we want to preserve the mean of our target distribution? If we do, diffusion might be a better choice than an OU process, because diffusion preserves the distribution mean.\n",
        "\n",
        "Consider 1D diffusion, for which the corresponding transition probabiltiy is\n",
        "$$p(x, t | x_0, 0) = \\frac{1}{\\sqrt{2 \\pi \\sigma^2 t}} \\exp\\left\\{ - \\frac{(x - x_0)^2}{2 \\sigma^2 t}  \\right\\} \\ . $$\n",
        "\n",
        "Given an arbitrary initial condition $p(x, 0) = p_0(x)$, the general solution of the diffusion equation is\n",
        "$$p(x, t) = \\int_{-\\infty}^{\\infty} p(x, t | x_0, 0) p_0(x_0) \\ dx_0 \\ .$$\n",
        "\n",
        "Show that\n",
        "$$\\langle x(t) \\rangle := \\int x \\ p(x, t) \\ dx = \\int x_0 p_0(x_0) \\ dx_0 \\ .$$"
      ]
    },
    {
      "cell_type": "markdown",
      "metadata": {
        "id": "ZTL8-YF_mdBC"
      },
      "source": [
        "####**1.3: Long-time behavior of OU process.**"
      ]
    },
    {
      "cell_type": "markdown",
      "metadata": {
        "id": "Ak08S_wBmdv1"
      },
      "source": [
        "Consider a 1D OU process\n",
        "\n",
        "$$\\dot{x} = \\frac{1}{\\tau} \\left[ \\mu - x \\right] + \\sigma \\sqrt{\\frac{2}{\\tau}} \\ \\eta(t) \\ ,$$\n",
        "\n",
        "for which we found that the transition probability is\n",
        "\n",
        "$$p(x, t | x_0, 0) = \\frac{1}{\\sqrt{2 \\pi s(t)^2}} \\exp\\left\\{ - \\frac{[ x - \\mu(t) ]^2}{2 s(t)^2}  \\right\\} $$\n",
        "\n",
        "where\n",
        "\n",
        "$$\n",
        "\\begin{split}\n",
        "\\mu(t) &:= x_0 e^{- t/\\tau} + \\mu \\left( 1 - e^{- t/\\tau} \\right) \\\\\n",
        "s(t)^2 &:= \\sigma^2 \\left( 1 - e^{- 2 t/\\tau} \\right) \\ .\n",
        "\\end{split}\n",
        "$$\n",
        "\n",
        "Show that, for an arbitrary initial distribution $p(x, 0) = p_0(x)$, we have\n",
        "$$p(x, t) = \\int_{-\\infty}^{\\infty} p(x, t | x_0, 0) p_0(x_0) \\ dx_0 \\  \\xrightarrow{t \\to \\infty} p_{ss}(x) = \\frac{1}{\\sqrt{2 \\pi \\sigma^2}} \\exp\\left\\{ - \\frac{(x - \\mu)^2}{2 \\sigma^2}  \\right\\} \\ .$$\n",
        "\n",
        "In particular, **note that an OU process does not preserve the distribution mean**!"
      ]
    },
    {
      "cell_type": "markdown",
      "metadata": {
        "id": "2Dayw61JhQfi"
      },
      "source": [
        "####**1.4: Effect of diffusion on Gaussian mixture.**"
      ]
    },
    {
      "cell_type": "markdown",
      "metadata": {
        "id": "e-xG1mu0oN_d"
      },
      "source": [
        "Consider a 1D Gaussian mixture with $M$ mixture components\n",
        "\n",
        "$$p_0(x) = \\sum_{j = 1}^M w_j \\ \\frac{1}{\\sqrt{2 \\pi s_j^2}} \\exp\\left\\{ - \\frac{[ x - \\mu_j ]^2}{2 s_j^2}  \\right\\} $$\n",
        "\n",
        "where $\\mu_j$ is the mean of mixture component $j$, and $s_j$ is the standard deviation of mixture component $j$.\n",
        "\n",
        "Suppose we use this Gaussian mixture as our initial condition for 1D diffusion. As a reminder, the transition probability for 1D diffusion is\n",
        "\n",
        "$$p(x, t | x_0, 0) = \\frac{1}{\\sqrt{2 \\pi \\sigma^2 t}} \\exp\\left\\{ - \\frac{(x - x_0)^2}{2 \\sigma^2 t}  \\right\\} \\ . $$\n",
        "\n",
        "Show that\n",
        "\n",
        "$$\n",
        "\\begin{split}\n",
        "p(x, t) &= \\int_{-\\infty}^{\\infty} p(x, t | x_0, 0) p_0(x_0) \\ dx_0  \\\\\n",
        "&= \\sum_{j = 1}^M w_j \\ \\frac{1}{\\sqrt{2 \\pi (s_j^2 + \\sigma^2 t)}} \\exp\\left\\{ - \\frac{[ x - \\mu_j ]^2}{2 (s_j^2 + \\sigma^2 t)}  \\right\\} \\ .\n",
        "\\end{split}\n",
        "$$\n",
        "\n",
        "In other words, diffusing a Gaussian mixture yields another Gaussian mixture whose components all have increased variance."
      ]
    },
    {
      "cell_type": "markdown",
      "metadata": {
        "id": "-JIk9_QUkd-L"
      },
      "source": [
        "####**1.5: Derivation of Fokker-Planck equation. [WARNING: HARDER]**"
      ]
    },
    {
      "cell_type": "markdown",
      "metadata": {
        "id": "e1S94WFsw0Ir"
      },
      "source": [
        "Let's try to derive the Fokker-Planck equation for a 1D Ito-interpreted SDE\n",
        "\n",
        "$$\\dot{x} = f(x, t) + g(x, t) \\ \\eta(t)$$\n",
        "\n",
        "which we remind the reader is\n",
        "\n",
        "$$\\frac{\\partial p(x, t)}{\\partial t} = - \\frac{\\partial}{\\partial x} \\left[ \\  f(x, t) p(x, t) \\ \\right] + \\frac{\\partial^2}{\\partial x^2} \\left[ \\ \\frac{g(x, t)^2}{2} p(x, t) \\ \\right] \\ .$$\n",
        "\n",
        "1. Begin with the expression for an Euler-Maruyama time step. Show that if\n",
        "$$x_{n+1} = x_n + f(x_n, t) \\Delta t + g(x_n, t) \\sqrt{t} \\ r \\ ,$$\n",
        "where $r \\sim \\mathcal{N}(0, 1)$, then\n",
        "$$p(x_{n+1}, t + \\Delta t | x_n, t) = \\frac{1}{\\sqrt{2 \\pi g(x_n,t)^2 \\Delta t}} \\exp\\left\\{ - \\frac{(x_{n+1} - x_n - f(x_n, t) \\Delta t)^2}{2 g(x_n, t)^2 \\Delta t}  \\right\\} \\ . $$ *Hint*: Linear combinations of normal random variables are also normal random variables.\n",
        "\n",
        "2. Show that\n",
        "$$p(x_{n+1}, t + \\Delta t | x_n, t) = \\int_{-\\infty}^{\\infty} \\frac{dp_n}{2 \\pi} \\ \\exp\\left\\{ - i p_n \\left[ x_{n+1} - x_n - f(x_n, t) \\Delta t \\right] - \\frac{g(x_n, t)^2}{2} p_n^2 \\Delta t  \\right\\} \\ .$$ *Hint*: If this is too confusing, first try evaluating the Gaussian integral\n",
        "$$\\int_{-\\infty}^{\\infty} \\frac{dp}{2 \\pi} \\ \\exp\\left\\{ - i p \\left[ x - \\mu \\right] - \\frac{\\sigma^2}{2} p^2  \\right\\} \\ .$$\n",
        "\n",
        "3. Note that\n",
        "$$p(x, t) = \\int_{-\\infty}^{\\infty} dy \\ p(x, t | y, t') p(y, t')$$\n",
        "where $t'$ is any time before $t$, i.e. $t' \\leq t$. In particular, we have that\n",
        "$$p(x, t + \\Delta t) = \\int_{-\\infty}^{\\infty} dy \\ p(x, t + \\Delta t | y, t) p(y, t)$$\n",
        "for $\\Delta t$ very small. Show that, to first order in $\\Delta t$,\n",
        "$$p(x, t + \\Delta t) = \\int_{-\\infty}^{\\infty} dy \\int_{-\\infty}^{\\infty} \\frac{dp}{2 \\pi} \\ e^{- i p (x - y)} \\left\\{ 1 + \\left[ i p f(y, t) + (ip)^2 \\frac{g(y, t)^2}{2} \\right] \\Delta t \\  \\right\\} p(y, t)$$\n",
        "\n",
        "4. Recall that the Dirac delta function has the integral representation\n",
        "$$\\delta(x - y) = \\int_{-\\infty}^{\\infty} \\frac{dp}{2\\pi} \\ e^{- i p (x - y)} \\ .$$\n",
        "Argue via integration by parts that your expression for $p(x, t + \\Delta t)$ implies\n",
        "$$p(x, t + \\Delta t) = p(x, t) + \\left\\{ \\ - \\frac{\\partial}{\\partial x}\\left[ f(x, t) p(x, t)  \\right] + \\frac{\\partial^2}{\\partial x^2}\\left[ \\frac{g(x, t)^2}{2} p(x, t)  \\right] \\ \\right\\} \\Delta t \\ .$$\n",
        "Use this to conclude that $p(x, t)$ satisfies the Fokker-Planck equation.\n"
      ]
    },
    {
      "cell_type": "markdown",
      "metadata": {
        "id": "D2waNtr2_IqA"
      },
      "source": [
        "-------------------------------------------------------------------------"
      ]
    },
    {
      "cell_type": "markdown",
      "metadata": {
        "id": "zQvwOA_EhhLh"
      },
      "source": [
        "## 2. Reverse diffusion"
      ]
    },
    {
      "cell_type": "markdown",
      "metadata": {
        "id": "5eIuJlPOA5QD"
      },
      "source": [
        "How do we 'undo' the noise that we added to our samples from the forward diffusion process? Although a bit counter to intuition—for example, we expect to observe cream and coffee to mix via diffusion, but not for them to spontaneously separate—it turns out that it is mathematically straightforward to define the time-reverse of a stochastic process governed by an SDE. The time-reversed process is *itself* a stochastic process governed by an SDE, whose probability density evolves in time according to a Fokker-Planck equation."
      ]
    },
    {
      "cell_type": "markdown",
      "metadata": {
        "id": "887EAOUSA5s1"
      },
      "source": [
        "###Motivating example: reversing 1D diffusion"
      ]
    },
    {
      "cell_type": "markdown",
      "metadata": {
        "id": "BbYxBOoBA6I9"
      },
      "source": [
        "Recall that 1D diffusion (for an amount of time $T$) can be described by the SDE\n",
        "$$\\dot{x} = \\sigma \\ \\eta(t) \\ .$$\n",
        "Intuitively, diffusion causes things to spread out. We would expect the time-reverse of this process to cause things to come back together.\n",
        "\n",
        "One stochastic process which concentrates things, rather than spreads them out, is an OU process. Might some kind of OU process be the time-reverse of 1D diffusion? It turns out that the OU process described by\n",
        "$$\\dot{x} = \\frac{x_0 - x}{T - t} + \\sigma \\ \\eta(t)$$\n",
        "is the time-reverse of a diffusion process that begins concentrated at the point $x_0$, and spreads out for an amount of time $T$. In other words, this process *compresses* a Gaussian until it becomes a delta function centered at $x_0$ at time $T$.\n",
        "\n",
        "The transition probability is also opposite:\n",
        "$$q(x, t | x_0, 0) = \\frac{1}{\\sqrt{2 \\pi \\sigma^2 (T - t)}} \\exp\\left\\{ - \\frac{(x - x_0)^2}{2 \\sigma^2 (T - t)}  \\right\\} \\ . $$\n",
        "\n",
        "To not confuse these probabilities with those of the forward process, we will denote them by $q$ instead of $p$.\n",
        "\n",
        "Since the reverse process is also governed by an SDE, we can use Euler-Maruyama time steps to simulate it; here, we would have\n",
        "$$x(t + \\Delta t) = x(t) + \\frac{x_0 - x}{T - t} \\Delta t + \\sigma \\sqrt{\\Delta t} \\ r \\ .$$\n",
        "Note that we're using the convention that time runs *forward*, from $t = 0$ to $t = T$, here. People also use the convention that times runs *backward* (from $t = T$ to $t = 0$), in which case we would instead have\n",
        "$$x(t - \\Delta t) = x(t) - \\frac{(x_0 - x)}{t} \\Delta t + \\sigma \\sqrt{\\Delta t} \\ r \\ .$$\n",
        "They are mathematically equivalent, so you can use either one when you're doing simulations."
      ]
    },
    {
      "cell_type": "markdown",
      "metadata": {
        "id": "-7fN9XtCA6l6"
      },
      "source": [
        "###Reversing more general stochastic processes"
      ]
    },
    {
      "cell_type": "markdown",
      "metadata": {
        "id": "5oIqTHzapSWb"
      },
      "source": [
        "Is there some systematic way to derive reverse processes? Fortunately, there is; for the 1D Ito-interpreted SDE (with *state-independent noise*)\n",
        "$$\\dot{x} = f(x, t) + g(t) \\ \\eta(t) \\ ,$$\n",
        "the time-reversed process (continuing to use the convention that time runs *forward*, from $t = 0$ to $t = T$) is\n",
        "$$\\dot{x} = - f(x, T - t) + g(T - t)^2 \\frac{\\partial}{\\partial x} \\log p(x, T - t) + g(T - t) \\ \\eta(t) \\ .$$\n",
        "If $p(x, t)$ describes the time evolution of the forward process from some specific initial condition, then $q(x, t)$, the time evolution of the reverse process, satisfies\n",
        "$$q(x, t) = p(x, T - t) $$\n",
        "i.e. it is the same time evolution, but run 'backwards'.\n",
        "\n",
        "For $N$-dimensional Ito-interpreted SDEs (with isotropic state-independent noise)\n",
        "$$\\dot{\\mathbf{x}} = \\mathbf{f}(\\mathbf{x}, t) + g(t) \\ \\boldsymbol{\\eta}(t) \\ ,$$\n",
        "the time-reversed process is\n",
        "$$\\dot{\\mathbf{x}} = - \\mathbf{f}(\\mathbf{x}, T - t) + g(T - t)^2 \\ \\nabla_{\\mathbf{x}} \\log p(\\mathbf{x}, T - t) + g(T - t) \\ \\boldsymbol{\\eta}(t) \\ .$$\n",
        "We have the more general relationship\n",
        "$$q(\\mathbf{x}, t) = p(\\mathbf{x}, T - t) \\ .$$\n",
        "**Why is this true?** The proof is not hard, but it is technical, so if you're interested, see Exercise 2.5 below.\n",
        "\n"
      ]
    },
    {
      "cell_type": "markdown",
      "metadata": {
        "id": "EqobEDwE7QoZ"
      },
      "source": [
        "###Score functions"
      ]
    },
    {
      "cell_type": "markdown",
      "metadata": {
        "id": "k51s2vU47TOk"
      },
      "source": [
        "The above expressions for the reverse processes include an interesting-looking function: the so-called **score function**, defined as\n",
        "$$\\mathbf{s}(\\mathbf{x}, t) := \\nabla_{\\mathbf{x}} \\ p(\\mathbf{x}, t) \\ .$$\n",
        "If we want to run the reverse process on some noise, and convert it to a sample from our target distribution, we need to know the score function. This is actually the key difficulty with this entire approach to generative modeling.\n",
        "\n",
        "Why is this difficult? *We don't know $p(\\mathbf{x}, t)$!* If we did, we could just sample from it directly instead of doing reverse diffusion.\n",
        "\n",
        "Although it may naively appear like we have a chicken and egg problem, the situation is not as bad as it seems. We *do* have to learn the score function, but it turns out to be easier than directly learning $p(\\mathbf{x}, t)$, a task that would also require us to learn a normalization factor (which is hard)."
      ]
    },
    {
      "cell_type": "markdown",
      "metadata": {
        "id": "pdgy7D6VhVtu"
      },
      "source": [
        "###Examples of score functions"
      ]
    },
    {
      "cell_type": "markdown",
      "metadata": {
        "id": "_x6DkqL_BdGm"
      },
      "source": [
        "Score functions associate a vector field with each time step of our stochastic process. Each little vector points in the direction of increasing probability. Let's look at a few examples to build intuition."
      ]
    },
    {
      "cell_type": "markdown",
      "metadata": {
        "id": "mG2-cvCMBx43"
      },
      "source": [
        "####**1D diffusion from a point mass**"
      ]
    },
    {
      "cell_type": "markdown",
      "metadata": {
        "id": "5OzOqODvBx83"
      },
      "source": [
        "Consider the case of 1D diffusion with a delta function initial condition (centered at $x_0$). The time-dependent probability is\n",
        "$$p(x, t) = \\frac{1}{\\sqrt{2 \\pi \\sigma^2 t}} \\exp\\left\\{ - \\frac{(x - x_0)^2}{2 \\sigma^2 t}  \\right\\} \\ .$$\n",
        "The score function is then\n",
        "$$s(x, t) = \\frac{\\partial}{\\partial x} \\log p(x, t) = - \\frac{(x - x_0)}{\\sigma^2 t} \\ .$$"
      ]
    },
    {
      "cell_type": "markdown",
      "metadata": {
        "id": "H0DFsPJfByAh"
      },
      "source": [
        "####**1D OU process from a point mass**"
      ]
    },
    {
      "cell_type": "markdown",
      "metadata": {
        "id": "hBRLPXj-Df4A"
      },
      "source": [
        "Consider the 1D OU process defined above with a delta function initial condition (centered at $x_0$). The time-dependent probability is\n",
        "$$p(x, t) = \\frac{1}{\\sqrt{2 \\pi s(t)^2}} \\exp\\left\\{ - \\frac{[ x - \\mu(t) ]^2}{2 s(t)^2}  \\right\\}  \\ .$$\n",
        "The score function is then\n",
        "$$s(x, t) = \\frac{\\partial}{\\partial x} \\log p(x, t) = - \\frac{[ x - \\mu(t) ]}{s(t)^2} \\ .$$"
      ]
    },
    {
      "cell_type": "markdown",
      "metadata": {
        "id": "97-G89nEByIJ"
      },
      "source": [
        "####**1D diffusion from a Gaussian mixture**"
      ]
    },
    {
      "cell_type": "markdown",
      "metadata": {
        "id": "bRNnx6-7Fk7I"
      },
      "source": [
        "As in Exercise 1.4, consider a 1D Gaussian mixture with $M$ mixture components\n",
        "\n",
        "$$p_0(x) = \\sum_{j = 1}^M w_j \\ \\frac{1}{\\sqrt{2 \\pi s_j^2}} \\exp\\left\\{ - \\frac{[ x - \\mu_j ]^2}{2 s_j^2}  \\right\\} $$\n",
        "\n",
        "where $\\mu_j$ is the mean of mixture component $j$, and $s_j$ is the standard deviation of mixture component $j$. Diffusing this mixture yields\n",
        "$$\n",
        "\\begin{split}\n",
        "p(x, t) &= \\int_{-\\infty}^{\\infty} p(x, t | x_0, 0) p_0(x_0) \\ dx_0  \\\\\n",
        "&= \\sum_{j = 1}^M w_j \\ \\frac{1}{\\sqrt{2 \\pi (s_j^2 + \\sigma^2 t)}} \\exp\\left\\{ - \\frac{[ x - \\mu_j ]^2}{2 (s_j^2 + \\sigma^2 t)}  \\right\\} \\ .\n",
        "\\end{split}\n",
        "$$\n",
        "Hence, the corresponding score function is\n",
        "$$s(x) = \\frac{\\partial}{\\partial x} \\log p(x, t) = - \\frac{1}{p(x, t)} \\sum_{j = 1}^M w_j \\frac{(x - \\mu_j)}{s_j^2 + \\sigma^2 t} \\ \\frac{1}{\\sqrt{2 \\pi (s_j^2 + \\sigma^2 t)}} \\exp\\left\\{ - \\frac{[ x - \\mu_j ]^2}{2 (s_j^2 + \\sigma^2 t)}  \\right\\} \\ .$$"
      ]
    },
    {
      "cell_type": "markdown",
      "metadata": {
        "id": "JTBSI1NWf27Z"
      },
      "source": [
        "###Basic example code"
      ]
    },
    {
      "cell_type": "markdown",
      "metadata": {
        "id": "oYDJcbMKf3MZ"
      },
      "source": [
        "Let's try to implement the reverse process corresponding to 1D diffusion. We will reuse some of the code above (for simulating the forward process); we only have to define the drift and noise functions for the reverse process."
      ]
    },
    {
      "cell_type": "code",
      "execution_count": null,
      "metadata": {
        "id": "ncOe6jHVf3ix"
      },
      "outputs": [],
      "source": [
        "# Drift function for a reverse process. More general than 1D diffusion.\n",
        "def f_diff_simple_rev(x, t, params):\n",
        "    T = params['T']\n",
        "    return - f_diff_simple(x, T-t, params) + (g_diff_simple(x, T-t, params)**2)*score(x, T-t, params)\n",
        "\n",
        "\n",
        "# Noise function for 1D diffusion (constant)\n",
        "def g_diff_simple_rev(x, t, params):\n",
        "    sigma = params['sigma']\n",
        "    return sigma*np.ones(len(x))\n",
        "\n",
        "\n",
        "# The score function for 1D diffusion from a point source. Score = grad log p(x,t)\n",
        "def score(x, t, params):\n",
        "    x0 = params['x0']\n",
        "    sigma = params['sigma']\n",
        "\n",
        "    score_ = (x0 - x)/((sigma**2)*(t))\n",
        "\n",
        "    return score_"
      ]
    },
    {
      "cell_type": "markdown",
      "metadata": {
        "id": "IzUJrJRag8VI"
      },
      "source": [
        "Simulation parameters."
      ]
    },
    {
      "cell_type": "code",
      "execution_count": null,
      "metadata": {
        "id": "4OJ7BePSg8VK"
      },
      "outputs": [],
      "source": [
        "sigma = 1         # noise amplitude for 1D diffusion\n",
        "\n",
        "num_samples = 1000\n",
        "x0 = np.zeros(num_samples)    # initial condition for diffusion\n",
        "\n",
        "\n",
        "nsteps = 2000      # number of simulation steps\n",
        "dt = 0.001          # size of small time steps\n",
        "T = nsteps*dt\n",
        "t = np.linspace(0, T, nsteps + 1)\n",
        "\n",
        "\n",
        "params = {'sigma': sigma, 'x0':x0, 'T':T}"
      ]
    },
    {
      "cell_type": "markdown",
      "metadata": {
        "id": "TDeOLbpXg8VM"
      },
      "source": [
        "Forward simulate the model. Then reverse diffuse the results."
      ]
    },
    {
      "cell_type": "code",
      "execution_count": null,
      "metadata": {
        "id": "j__R7Asqg8VM"
      },
      "outputs": [],
      "source": [
        "x_traj = forward_SDE_simulation(x0, nsteps, dt, f_diff_simple, g_diff_simple, params)\n",
        "x_traj_rev = forward_SDE_simulation(x_traj[-1], nsteps, dt, f_diff_simple_rev, g_diff_simple_rev, params)"
      ]
    },
    {
      "cell_type": "markdown",
      "metadata": {
        "id": "fdxHOop2g8VN"
      },
      "source": [
        "Plot results."
      ]
    },
    {
      "cell_type": "code",
      "execution_count": null,
      "metadata": {
        "colab": {
          "base_uri": "https://localhost:8080/",
          "height": 893
        },
        "id": "OMVvVvA9g8VN",
        "outputId": "27d4310f-666b-4573-9b34-0a011b405a6e"
      },
      "outputs": [
        {
          "data": {
            "image/png": "[encoded data removed]",
            "text/plain": [
              "<Figure size 432x288 with 1 Axes>"
            ]
          },
          "metadata": {
            "needs_background": "light"
          },
          "output_type": "display_data"
        },
        {
          "data": {
            "image/png": "[encoded data removed]",
            "text/plain": [
              "<Figure size 432x288 with 1 Axes>"
            ]
          },
          "metadata": {
            "needs_background": "light"
          },
          "output_type": "display_data"
        },
        {
          "data": {
            "image/png": "[encoded data removed]",
            "text/plain": [
              "<Figure size 432x288 with 1 Axes>"
            ]
          },
          "metadata": {
            "needs_background": "light"
          },
          "output_type": "display_data"
        }
      ],
      "source": [
        "# Compute exact transition probability\n",
        "x_f_min, x_f_max = np.amin(x_traj[-1]), np.amax(x_traj[-1])\n",
        "num_xf = 1000\n",
        "x_f_arg = np.linspace(x_f_min, x_f_max, num_xf)\n",
        "pdf_final = transition_probability_diffusion_exact(x_f_arg, T, params)\n",
        "\n",
        "\n",
        "# Plot final distribution (distribution after diffusion / before reverse diffusion)\n",
        "plt.hist(x_traj[-1], bins=100, density=True)\n",
        "plt.plot(x_f_arg, pdf_final, color='black', linewidth=5)\n",
        "plt.title(\"$t = $\"+str(T), fontsize=20)\n",
        "plt.xlabel(\"$x$\", fontsize=20)\n",
        "plt.ylabel(\"probability\", fontsize=20)\n",
        "plt.show()\n",
        "\n",
        "\n",
        "# Plot initial distribution (distribution before diffusion / after reverse diffusion)\n",
        "#fig, ax = plt.subplots(1, 2, width=)\n",
        "plt.hist(x_traj_rev[-1], density=True, bins=100, label='rev. diff.')\n",
        "plt.hist(x_traj[0], density=True, bins=100, label='true')\n",
        "\n",
        "plt.title(\"$t = 0$\", fontsize=20)\n",
        "plt.xlabel(\"$x$\", fontsize=20)\n",
        "plt.ylabel(\"probability\", fontsize=20)\n",
        "plt.legend(fontsize=15)\n",
        "plt.show()\n",
        "\n",
        "\n",
        "# Plot some trajectories\n",
        "sample_trajectories = [0, 1, 2, 3, 4]\n",
        "for s in sample_trajectories:\n",
        "  plt.plot(t, x_traj_rev[:,s])\n",
        "plt.title(\"Sample trajectories (reverse process)\", fontsize=20)\n",
        "plt.xlabel(\"$t$\", fontsize=20)\n",
        "plt.ylabel(\"x\", fontsize=20)\n",
        "plt.show()"
      ]
    },
    {
      "cell_type": "markdown",
      "metadata": {
        "id": "X3NKPC-RA7EC"
      },
      "source": [
        "###Exercises"
      ]
    },
    {
      "cell_type": "markdown",
      "metadata": {
        "id": "mXLTIg5MIl4T"
      },
      "source": [
        "####**2.1: Why does the reverse stochastic process work?**\n",
        "\n",
        "Consider a 1D Ito-interpreted SDE\n",
        "$$\\dot{x} = f(x, t) + g(t) \\ \\eta(t) \\ ,$$\n",
        "whose time-reversed process should be\n",
        "$$\\dot{x} = - f(x, T - t) + g(T - t)^2 \\frac{\\partial}{\\partial x} \\log p(x, T - t) + g(T - t) \\ \\eta(t) \\ .$$\n",
        "If indeed the latter process is the time-reverse of the former process, we expect that\n",
        "$$q(x, t) = p(x, T - t) \\ .$$\n",
        "Note that the forward process satisfies the Fokker-Planck equation\n",
        "$$\\frac{\\partial p(x, t)}{\\partial t} = - \\frac{\\partial}{\\partial x} \\left[ \\  f(x, t) p(x, t) \\ \\right] + \\frac{\\partial^2}{\\partial x^2} \\left[ \\ \\frac{g(x, t)^2}{2} p(x, t) \\ \\right] \\ .$$\n",
        "By reversing time, we find that $p(x, T - t)$ satisfies\n",
        "$$\\frac{\\partial p(x, T - t)}{\\partial t} = \\frac{\\partial}{\\partial x} \\left[ \\  f(x, T-t) p(x, T-t) \\ \\right] - \\frac{\\partial^2}{\\partial x^2} \\left[ \\ \\frac{g(x, T-t)^2}{2} p(x, T-t) \\ \\right] \\ .$$\n",
        "Use this fact to show that $q(x, t) = p(x, T - t)$ is a solution to the Fokker-Planck equation\n",
        "$$\\frac{\\partial q(x, t)}{\\partial t} = - \\frac{\\partial}{\\partial x} \\left[ \\  \\left( f(x, T-t) - g(T-t)^2 \\frac{\\partial}{\\partial x} \\log p(x, T-t) \\right)  q(x, t) \\ \\right] + \\frac{\\partial^2}{\\partial x^2} \\left[ \\ \\frac{g(x, T-t)^2}{2} q(x, t) \\ \\right] \\ ,$$\n",
        "and hence that we *did* write down an SDE that describes the reverse process after all."
      ]
    },
    {
      "cell_type": "markdown",
      "metadata": {
        "id": "kHRz0b-MZ_bS"
      },
      "source": [
        "####**2.2: Why does the reverse stochastic process work? Pt. 2**\n",
        "\n",
        "Consider an $N$-dimensional Ito-interpreted SDE\n",
        "$$\\dot{\\mathbf{x}} = \\mathbf{f}(\\mathbf{x}, t) + g(t) \\ \\boldsymbol{\\eta}(t) \\ ,$$\n",
        "whose time-reversed process should be\n",
        "$$\\dot{\\mathbf{x}} = - \\mathbf{f}(\\mathbf{x}, T - t) + g(T - t)^2 \\ \\nabla_{\\mathbf{x}} \\log p(\\mathbf{x}, T - t) + g(T - t) \\ \\boldsymbol{\\eta}(t) \\ .$$\n",
        "We expect that\n",
        "$$q(\\mathbf{x}, t) = p(\\mathbf{x}, T - t) \\ .$$\n",
        "By generalizing the argument from the previous problem, show that $q(\\mathbf{x}, t) = p(\\mathbf{x}, T - t)$ satisfies the correct Fokker-Planck equation, and hence that we *did* write down an SDE that describes the reverse process.\n"
      ]
    },
    {
      "cell_type": "markdown",
      "metadata": {
        "id": "tFguFYHUUfyo"
      },
      "source": [
        "####**2.3: Reverse processes in the case of state-dependent noise.**\n",
        "\n",
        "Consider a 1D Ito-interpreted SDE\n",
        "$$\\dot{x} = f(x, t) + g(x, t) \\ \\eta(t) \\ .$$\n",
        "This differs from the one we considered above because the function $g$ is *state-dependent*; in other words, some states are noisier than others.\n",
        "\n",
        "The argument we use to verify the reverse process (Exercise 2.1) doesn't work for this SDE. In fact, in this case the reverse process is **not** given by\n",
        "$$\\dot{x} = - f(x, T - t) + g(x, T - t)^2 \\frac{\\partial}{\\partial x} \\log p(x, T - t) + g(x, T - t) \\ \\eta(t) \\ .$$\n",
        "Why? Which part of our argument fails?\n",
        "\n",
        "Can you come up with a more general expression for the reverse process which permits SDEs like this?"
      ]
    },
    {
      "cell_type": "markdown",
      "metadata": {
        "id": "1gLKSx5d0aPq"
      },
      "source": [
        "-------------------------------------------------------------------------"
      ]
    },
    {
      "cell_type": "markdown",
      "metadata": {
        "id": "2_uLoibShhUC"
      },
      "source": [
        "## 3. Learning the score function"
      ]
    },
    {
      "cell_type": "markdown",
      "metadata": {
        "id": "gOJfaBeW1I0L"
      },
      "source": [
        "Let's now try and actually solve the chicken and egg problem. We would like to sample from some target distribution—whose functional form is unknown, and which we can only access via samples—via reverse diffusion, but doing so requires that we know the score function corresponding to the target distribution. Knowing the score function, the gradient of the log of this distribution, appears to be equivalent to knowing the distribution itself. **How do we learn the score function?**"
      ]
    },
    {
      "cell_type": "markdown",
      "metadata": {
        "id": "paiCqdNv1MNm"
      },
      "source": [
        "###Defining an objective function for score learning"
      ]
    },
    {
      "cell_type": "markdown",
      "metadata": {
        "id": "ABjmqtByA88d"
      },
      "source": [
        "First, let's write down a reasonable objective function. Suppose we have some parameterized approximation of the score function $\\mathbf{s}_{\\boldsymbol{\\theta}}(\\mathbf{x}, t)$ which depends upon a set of parameters $\\boldsymbol{\\theta}$. We want to accurately approximate the score function for all values of $\\mathbf{x}$ and all values of $t$, so we might try to write down something like\n",
        "$$J(\\boldsymbol{\\theta}) \\stackrel{?}{:=} \\frac{1}{2} \\int d\\mathbf{x} dt \\ \\left[ \\mathbf{s}_{\\boldsymbol{\\theta}}(\\mathbf{x}, t) - \\nabla_{\\mathbf{x}} \\log p(\\mathbf{x}, t)  \\right]^2 \\ .$$\n",
        "\n",
        "This objective has the problem that it does not prioritize any particular value of $\\mathbf{x}$ over the others. We are particularly interested in getting the score function right for values which are highly probable, so a reasonable modification of the above is\n",
        "$$J(\\boldsymbol{\\theta}) \\stackrel{?}{:=} \\frac{1}{2} \\int d\\mathbf{x} dt \\ p(\\mathbf{x}, t) \\ \\left[ \\mathbf{s}_{\\boldsymbol{\\theta}}(\\mathbf{x}, t) - \\nabla_{\\mathbf{x}} \\log p(\\mathbf{x}, t)  \\right]^2 \\ .$$\n",
        "\n",
        "Similarly, we might consider adding a weighting factor which is different for different *times*, for the reason that the scale of deviations from the exact score function may change over time:\n",
        "$$J_{naive}(\\boldsymbol{\\theta}) := \\frac{1}{2} \\int d\\mathbf{x} dt \\ \\lambda(t) \\  p(\\mathbf{x}, t) \\ \\left[ \\mathbf{s}_{\\boldsymbol{\\theta}}(\\mathbf{x}, t) - \\nabla_{\\mathbf{x}} \\log p(\\mathbf{x}, t)  \\right]^2 \\ .$$\n",
        "\n",
        "This is a perfectly reasonable objective function. But we have a significant problem: namely, it is hard to estimate the gradient of the log of $p(\\mathbf{x}, t)$, since $p(\\mathbf{x}, t)$ may depend strongly on $p(\\mathbf{x}, 0)$ (i.e. our target distribution). *And we don't know our target distribution, which is the reason we're doing all of this!*\n",
        "\n",
        "At this point, we can use an interesting trick. Even though the above objective function is pretty reasonable, it's too hard to work with; the trick is to find an alternative objective function *with the same global minimum*. This turns out to be provided by\n",
        "$$J_{mod}(\\boldsymbol{\\theta}) := \\frac{1}{2} \\int d\\mathbf{x} d\\mathbf{x}^{(0)} dt \\ p(\\mathbf{x}, t | \\mathbf{x}^{(0)}, 0) p(\\mathbf{x}^{(0)}) \\ \\left[ \\mathbf{s}_{\\boldsymbol{\\theta}}(\\mathbf{x}, t) - \\nabla_{\\mathbf{x}} \\log p(\\mathbf{x}, t | \\mathbf{x}^{(0)}, 0)  \\right]^2 \\ .$$\n",
        "\n",
        "Note that\n",
        "$$\n",
        "\\begin{split}\n",
        "\\nabla_{\\boldsymbol{\\theta}} J_{naive}(\\boldsymbol{\\theta}) &= \\int d\\mathbf{x} dt \\ p(\\mathbf{x}, t) \\ \\left[ \\mathbf{s}_{\\boldsymbol{\\theta}}(\\mathbf{x}, t) - \\nabla_{\\mathbf{x}} \\log p(\\mathbf{x}, t)  \\right] \\cdot \\nabla_{\\boldsymbol{\\theta}} \\mathbf{s}_{\\boldsymbol{\\theta}}(\\mathbf{x}, t)  \\\\\n",
        "&=  \\int d\\mathbf{x} dt \\ p(\\mathbf{x}, t) \\ \\left[ \\mathbf{s}_{\\boldsymbol{\\theta}}(\\mathbf{x}, t) - \\frac{\\nabla_{\\mathbf{x}} p(\\mathbf{x}, t)}{p(\\mathbf{x}, t)}  \\right] \\cdot \\nabla_{\\boldsymbol{\\theta}} \\mathbf{s}_{\\boldsymbol{\\theta}}(\\mathbf{x}, t) \\\\\n",
        "&=  \\int d\\mathbf{x} dt \\ \\left[ \\ p(\\mathbf{x}, t) \\ \\mathbf{s}_{\\boldsymbol{\\theta}}(\\mathbf{x}, t) - \\nabla_{\\mathbf{x}} p(\\mathbf{x}, t) \\  \\right] \\cdot \\nabla_{\\boldsymbol{\\theta}} \\mathbf{s}_{\\boldsymbol{\\theta}}(\\mathbf{x}, t) \\\\\n",
        "&=  \\int d\\mathbf{x} d\\mathbf{x}^{(0)} dt \\ p(\\mathbf{x}^{(0)}) \\ \\left[ \\ p(\\mathbf{x}, t | \\mathbf{x}^{(0)}, 0) \\ \\mathbf{s}_{\\boldsymbol{\\theta}}(\\mathbf{x}, t) - \\nabla_{\\mathbf{x}} p(\\mathbf{x}, t | \\mathbf{x}^{(0)}, 0) \\  \\right] \\cdot \\nabla_{\\boldsymbol{\\theta}} \\mathbf{s}_{\\boldsymbol{\\theta}}(\\mathbf{x}, t) \\\\\n",
        "&=  \\int d\\mathbf{x} d\\mathbf{x}^{(0)} dt \\ p(\\mathbf{x}, t | \\mathbf{x}^{(0)}, 0) p(\\mathbf{x}^{(0)}) \\ \\left[ \\ \\mathbf{s}_{\\boldsymbol{\\theta}}(\\mathbf{x}, t) - \\nabla_{\\mathbf{x}} \\log p(\\mathbf{x}, t | \\mathbf{x}^{(0)}, 0) \\  \\right] \\cdot \\nabla_{\\boldsymbol{\\theta}} \\mathbf{s}_{\\boldsymbol{\\theta}}(\\mathbf{x}, t) \\\\\n",
        "\\end{split}\n",
        "$$\n",
        "\n",
        "$$\n",
        "\\begin{split}\n",
        "\\nabla_{\\boldsymbol{\\theta}} J_{mod}(\\boldsymbol{\\theta}) = \\int d\\mathbf{x} d\\mathbf{x}^{(0)} dt \\ p(\\mathbf{x}, t | \\mathbf{x}^{(0)}, 0) p(\\mathbf{x}^{(0)}) \\ \\left[ \\mathbf{s}_{\\boldsymbol{\\theta}}(\\mathbf{x}, t) - \\nabla_{\\mathbf{x}} \\log p(\\mathbf{x}, t | \\mathbf{x}^{(0)}, 0)  \\right] \\cdot \\nabla_{\\boldsymbol{\\theta}} \\mathbf{s}_{\\boldsymbol{\\theta}}(\\mathbf{x}, t) \\ .\n",
        "\\end{split}\n",
        "$$\n",
        "\n",
        "Actually, we've shown something stronger: these two objective functions are *identical*, as functions of $\\boldsymbol{\\theta}$, up to an additive constant."
      ]
    },
    {
      "cell_type": "markdown",
      "metadata": {
        "id": "DyfRfSWbA9Tz"
      },
      "source": [
        "Now that our objective function involves estimating the gradient of the log of the transition probability, which we can often compute *analytically* using knowledge of our forward stochastic process, it is usable.\n",
        "\n",
        "The objective function we will go with is the last one (we'll remove the 'mod' subscript to endow it with extra importance):\n",
        "$$\n",
        "\\begin{split}\n",
        "J(\\boldsymbol{\\theta}) &:= \\frac{1}{2} \\int d\\mathbf{x} d\\mathbf{x}^{(0)} dt \\ p(\\mathbf{x}, t | \\mathbf{x}^{(0)}, 0) p(\\mathbf{x}^{(0)}) \\ \\left[ \\mathbf{s}_{\\boldsymbol{\\theta}}(\\mathbf{x}, t) - \\nabla_{\\mathbf{x}} \\log p(\\mathbf{x}, t | \\mathbf{x}^{(0)}, 0)  \\right]^2 \\\\\n",
        "&= \\frac{1}{2} \\mathbb{E}_t\\left\\{  \\ \\lambda(t) \\ \\mathbb{E}_{\\mathbf{x}^{(0)}} \\mathbb{E}_{\\mathbf{x} | \\mathbf{x}^{(0)}} \\left[ \\ \\Vert \\ \\mathbf{s}_{\\boldsymbol{\\theta}}(\\mathbf{x}, t) - \\nabla_{\\mathbf{x}} \\log p(\\mathbf{x}, t | \\mathbf{x}^{(0)}, 0) \\  \\Vert^2_2 \\ \\right] \\ \\right\\} \\ .\n",
        "\\end{split}\n",
        "$$\n",
        "(Just to be extra clear, the expectation over time is taken with respect to a uniform distribution on $[0, T]$.)\n",
        "\n"
      ]
    },
    {
      "cell_type": "markdown",
      "metadata": {
        "id": "_co3pAqxA9o2"
      },
      "source": [
        "###Approximating the objective function using samples"
      ]
    },
    {
      "cell_type": "markdown",
      "metadata": {
        "id": "mxh1-gH_A9-c"
      },
      "source": [
        "One nice benefit of writing the objective/loss function in terms of expectations is that this suggests a clear strategy for approximating it using samples: we can take a Monte-Carlo-type approach.\n",
        "\n",
        "Given a sample $\\mathbf{x}^{(0)}$ from our target distribution, we can do the following:\n",
        "\n",
        "1.   Sample a time $t$ uniformly from $[0, T]$.\n",
        "2.   Use our knowledge of the transition probability to sample $\\mathbf{x} \\sim p(\\mathbf{x}, t | \\mathbf{x}^{(0)}, 0)$.\n",
        "3.   Use our knowledge of the transition probability to evaluate $\\nabla_{\\mathbf{x}} \\log p(\\mathbf{x}, t | \\mathbf{x}^{(0)}, 0)$ for our samples.\n",
        "\n",
        "Then we have an approximation\n",
        "$$J(\\boldsymbol{\\theta}) \\approx \\frac{1}{2} \\lambda(t) \\left[ \\ \\mathbf{s}_{\\boldsymbol{\\theta}}(\\mathbf{x}, t) - \\nabla_{\\mathbf{x}} \\log p(\\mathbf{x}, t | \\mathbf{x}^{(0)}, 0)  \\ \\right]^2 \\ .$$\n",
        "\n",
        "More generally, if we have a batch of $S$ samples, we can follow this procedure with each one and construct the approximation\n",
        "$$J(\\boldsymbol{\\theta}) \\approx \\frac{1}{2 S} \\sum_{j = 1}^S \\lambda(t_j) \\left[ \\ \\mathbf{s}_{\\boldsymbol{\\theta}}(\\mathbf{x}_j, t_j) - \\nabla_{\\mathbf{x}} \\log p(\\mathbf{x}_j, t | \\mathbf{x}^{(0)}_j, 0)  \\ \\right]^2 \\ .$$\n",
        "\n",
        "Fortunately, the log of the transition probability tends to have a particularly simple form for the analytically tractable forward processes we'll be using. For example, for the VE SDE (see Section 2), which is defined via\n",
        "$$\\dot{\\mathbf{x}} = \\sqrt{ \\frac{d[ \\sigma^2(t) ]}{dt} } \\ \\boldsymbol{\\eta}(t) \\ ,$$\n",
        "the corresponding transition probability is\n",
        "$$\n",
        "\\begin{split}\n",
        "p(\\mathbf{x}, t | \\mathbf{x}^{(0)}, 0) &= \\frac{1}{\\left[ \\sqrt{2 \\pi \\sigma^2(t)} \\right]^N} \\exp\\left\\{ - \\frac{\\left[ \\mathbf{x} - \\mathbf{x}^{(0)} \\right]^2}{2 \\sigma^2(t)}  \\right\\} \\ ,\n",
        "\\end{split}\n",
        "$$\n",
        "so the gradient of the log of the transition probability is\n",
        "$$\\nabla_{\\mathbf{x}} \\log p(\\mathbf{x}, t | \\mathbf{x}^{(0)}, 0) = - \\frac{\\left[ \\mathbf{x} - \\mathbf{x}^{(0)} \\right]}{\\sigma^2(t)} \\ .$$\n",
        "\n",
        "Now that we can approximately evaluate the loss function, we can let the computer take care of gradients...and the rest is compute time**!\n",
        "\n",
        "** and lots and lots of implementation details\n",
        "\n",
        "\n"
      ]
    },
    {
      "cell_type": "markdown",
      "metadata": {
        "id": "ioB_lsJ8Qv0m"
      },
      "source": [
        "###Function approximation via deep neural networks"
      ]
    },
    {
      "cell_type": "markdown",
      "metadata": {
        "id": "V06XpjBMQv_v"
      },
      "source": [
        "Now that we have a well-defined optimization problem, and a straightforward algorithm for solving it, we can throw all sorts of tools at the problem to make solving it more manageable. Since we need to construct some parameterized approximation of the score function, *(deep) neural networks* are one such tool.\n",
        "\n",
        "This jump to neural networks does not require any substantial conceptual changes to the picture we have outlined above. As you will see in the second (coding-focused) notebook of this session, once everything else is set up, incorporating neural networks as score function approximators is actually pretty trivial. The *benefits*, of course, are another story."
      ]
    },
    {
      "cell_type": "markdown",
      "metadata": {
        "id": "ZJsFe-pDhXsr"
      },
      "source": [
        "###Exercises"
      ]
    },
    {
      "cell_type": "markdown",
      "metadata": {
        "id": "ettcdDEaS7nV"
      },
      "source": [
        "####**3.1: More explicit objective functions.**\n",
        "\n",
        "The objective function we defined above involves evaluating $\\nabla_{\\mathbf{x}} \\log p(\\mathbf{x}, t | \\mathbf{x}^{(0)}, 0)$ at samples $\\mathbf{x}$ and $\\mathbf{x}^{(0)}$. This is easiest when we have closed-form expressions for the transition probability.\n",
        "\n",
        "Write down the full objective function, with this term evaluated explicitly, for the three SDEs described at the end of Section 2: the (i) VE SDE, (ii) VP SDE, and (iii) sub-VP SDE."
      ]
    },
    {
      "cell_type": "markdown",
      "metadata": {
        "id": "1sjj50TUA-aG"
      },
      "source": [
        "----------------------------------"
      ]
    },
    {
      "cell_type": "markdown",
      "metadata": {
        "id": "BoKXMKTalxtB"
      },
      "source": [
        "##End"
      ]
    },
    {
      "cell_type": "markdown",
      "metadata": {
        "id": "TK7AmIVHUJkM"
      },
      "source": [
        "Nice job getting through this notebook! Good luck with Day 2!"
      ]
    },
    {
      "cell_type": "code",
      "execution_count": null,
      "metadata": {
        "id": "ItHIZIRGArHS"
      },
      "outputs": [],
      "source": []
    }
  ],
  "metadata": {
    "colab": {
      "collapsed_sections": [
        "JEWsp3_9X9PE",
        "m22mvSzhQKWz",
        "x6Jdv97ZQV6s",
        "C2qUy2lwQZ50",
        "YITr7i8S0xGN"
      ],
      "provenance": [],
      "toc_visible": true
    },
    "kernelspec": {
      "display_name": "Python 3",
      "name": "python3"
    },
    "language_info": {
      "name": "python",
      "version": "3.10.12"
    }
  },
  "nbformat": 4,
  "nbformat_minor": 0
}
